{
 "cells": [
  {
   "cell_type": "code",
   "execution_count": 1,
   "id": "a26882a1",
   "metadata": {},
   "outputs": [],
   "source": [
    "import pandas as pd\n",
    "import numpy as np\n",
    "import matplotlib.pyplot as plt\n"
   ]
  },
  {
   "cell_type": "markdown",
   "id": "ffa79139",
   "metadata": {},
   "source": [
    "## DR REDDY Stock :"
   ]
  },
  {
   "cell_type": "code",
   "execution_count": 36,
   "id": "ca9281d5",
   "metadata": {},
   "outputs": [
    {
     "data": {
      "text/plain": [
       "<bound method NDFrame.head of             Date   Symbol Series  Prev Close     Open     High      Low  \\\n",
       "0     2000-01-03  DRREDDY     EQ     1396.50  1505.00  1508.25  1505.00   \n",
       "1     2000-01-04  DRREDDY     EQ     1508.25  1590.00  1628.95  1510.00   \n",
       "2     2000-01-05  DRREDDY     EQ     1628.95  1549.00  1650.00  1499.00   \n",
       "3     2000-01-06  DRREDDY     EQ     1568.05  1599.00  1693.50  1571.00   \n",
       "4     2000-01-07  DRREDDY     EQ     1661.55  1685.00  1685.00  1528.65   \n",
       "...          ...      ...    ...         ...      ...      ...      ...   \n",
       "5301  2021-04-26  DRREDDY     EQ     5066.70  5125.00  5130.00  5030.25   \n",
       "5302  2021-04-27  DRREDDY     EQ     5066.70  5090.50  5116.00  5021.35   \n",
       "5303  2021-04-28  DRREDDY     EQ     5057.25  5082.55  5106.90  5030.00   \n",
       "5304  2021-04-29  DRREDDY     EQ     5044.45  5070.25  5144.00  5042.30   \n",
       "5305  2021-04-30  DRREDDY     EQ     5102.30  5140.00  5211.00  5125.15   \n",
       "\n",
       "         Last    Close     VWAP   Volume      Turnover   Trades  \\\n",
       "0     1508.25  1508.25  1508.21    13280  2.002904e+12      NaN   \n",
       "1     1628.95  1628.95  1579.29    57142  9.024405e+12      NaN   \n",
       "2     1566.00  1568.05  1594.99   119697  1.909155e+13      NaN   \n",
       "3     1693.50  1661.55  1632.11   121966  1.990625e+13      NaN   \n",
       "4     1528.65  1529.10  1585.24    79641  1.262497e+13      NaN   \n",
       "...       ...      ...      ...      ...           ...      ...   \n",
       "5301  5067.00  5066.70  5078.16   950577  4.827178e+14  70675.0   \n",
       "5302  5062.00  5057.25  5065.33   957835  4.851746e+14  64767.0   \n",
       "5303  5048.00  5044.45  5065.54   843953  4.275075e+14  69716.0   \n",
       "5304  5106.00  5102.30  5098.90  1071931  5.465666e+14  74199.0   \n",
       "5305  5169.00  5163.10  5170.81  1306950  6.757985e+14  80394.0   \n",
       "\n",
       "      Deliverable Volume  %Deliverble  \n",
       "0                    NaN          NaN  \n",
       "1                    NaN          NaN  \n",
       "2                    NaN          NaN  \n",
       "3                    NaN          NaN  \n",
       "4                    NaN          NaN  \n",
       "...                  ...          ...  \n",
       "5301            217218.0       0.2285  \n",
       "5302            260296.0       0.2718  \n",
       "5303            184756.0       0.2189  \n",
       "5304            211996.0       0.1978  \n",
       "5305            398563.0       0.3050  \n",
       "\n",
       "[5306 rows x 15 columns]>"
      ]
     },
     "execution_count": 36,
     "metadata": {},
     "output_type": "execute_result"
    }
   ],
   "source": [
    "df=pd.read_csv(\"DRREDDY.csv\")\n",
    "df.head\n"
   ]
  },
  {
   "cell_type": "code",
   "execution_count": 23,
   "id": "ffcb673a",
   "metadata": {},
   "outputs": [
    {
     "data": {
      "text/plain": [
       "array([['2000-01-03', 'DRREDDY', 'EQ', ..., nan, nan, nan],\n",
       "       ['2000-01-04', 'DRREDDY', 'EQ', ..., nan, nan, nan],\n",
       "       ['2000-01-05', 'DRREDDY', 'EQ', ..., nan, nan, nan],\n",
       "       ...,\n",
       "       ['2021-04-28', 'DRREDDY', 'EQ', ..., 69716.0, 184756.0, 0.2189],\n",
       "       ['2021-04-29', 'DRREDDY', 'EQ', ..., 74199.0, 211996.0, 0.1978],\n",
       "       ['2021-04-30', 'DRREDDY', 'EQ', ..., 80394.0, 398563.0, 0.305]],\n",
       "      dtype=object)"
      ]
     },
     "execution_count": 23,
     "metadata": {},
     "output_type": "execute_result"
    }
   ],
   "source": [
    "df_value=df.values\n",
    "df_value"
   ]
  },
  {
   "cell_type": "markdown",
   "id": "a0a08491",
   "metadata": {},
   "source": [
    "#### Daily Retrun :"
   ]
  },
  {
   "cell_type": "code",
   "execution_count": 52,
   "id": "013a3527",
   "metadata": {},
   "outputs": [],
   "source": [
    "\n",
    "list1=[0]\n",
    "for i in range(1,len(df)):\n",
    "        yestarday=df_value[i-1][8]\n",
    "        today=df_value[i][4]\n",
    "        inc=((today - yestarday)/yestarday)\n",
    "        p=round(inc,2)\n",
    "        list1.append(p)"
   ]
  },
  {
   "cell_type": "code",
   "execution_count": 53,
   "id": "ab2c9e20",
   "metadata": {},
   "outputs": [],
   "source": [
    "df['Daily_return']=list1"
   ]
  },
  {
   "cell_type": "markdown",
   "id": "4010d98f",
   "metadata": {},
   "source": [
    "#### Maximun Daily return of DRREDDY stock :"
   ]
  },
  {
   "cell_type": "code",
   "execution_count": 61,
   "id": "3ee46ad6",
   "metadata": {},
   "outputs": [
    {
     "name": "stdout",
     "output_type": "stream",
     "text": [
      "0.11\n"
     ]
    }
   ],
   "source": [
    "max_return_of_stock = df['Daily_return'].max()\n",
    "print(max_return_of_stock)"
   ]
  },
  {
   "cell_type": "markdown",
   "id": "311a380f",
   "metadata": {},
   "source": [
    "#### Minimum Daily return of DRREDDY stock:"
   ]
  },
  {
   "cell_type": "code",
   "execution_count": 62,
   "id": "c24de7c0",
   "metadata": {},
   "outputs": [
    {
     "name": "stdout",
     "output_type": "stream",
     "text": [
      "-0.5\n"
     ]
    }
   ],
   "source": [
    "max_return_of_stock = df['Daily_return'].min()\n",
    "print(max_return_of_stock )"
   ]
  },
  {
   "cell_type": "markdown",
   "id": "0017465e",
   "metadata": {},
   "source": [
    "#### Average daily return of DRREDDY stock:"
   ]
  },
  {
   "cell_type": "code",
   "execution_count": 64,
   "id": "46aadb95",
   "metadata": {},
   "outputs": [
    {
     "name": "stdout",
     "output_type": "stream",
     "text": [
      "0.0010723709008669431\n"
     ]
    }
   ],
   "source": [
    "Avg_return_of_stock = df['Daily_return'].mean()\n",
    "print(Avg_return_of_stock )"
   ]
  },
  {
   "cell_type": "markdown",
   "id": "c5af16bc",
   "metadata": {},
   "source": [
    "#### Standard deviation of DRREDDY stock:"
   ]
  },
  {
   "cell_type": "code",
   "execution_count": 65,
   "id": "b6e9467d",
   "metadata": {},
   "outputs": [
    {
     "name": "stdout",
     "output_type": "stream",
     "text": [
      "0.01655196717196715\n"
     ]
    }
   ],
   "source": [
    "std_return_of_stock = df['Daily_return'].std()\n",
    "print(std_return_of_stock )"
   ]
  },
  {
   "cell_type": "markdown",
   "id": "9289a755",
   "metadata": {},
   "source": [
    "# HDFC STOCK :"
   ]
  },
  {
   "cell_type": "code",
   "execution_count": 66,
   "id": "62d3c0ff",
   "metadata": {},
   "outputs": [],
   "source": [
    "df_hdfc=pd.read_csv(\"HDFC.csv\")"
   ]
  },
  {
   "cell_type": "code",
   "execution_count": 68,
   "id": "7591b2ec",
   "metadata": {},
   "outputs": [],
   "source": [
    "df_hdfc1=df_hdfc.values"
   ]
  },
  {
   "cell_type": "markdown",
   "id": "01dfe2ca",
   "metadata": {},
   "source": [
    "### Daily return :"
   ]
  },
  {
   "cell_type": "code",
   "execution_count": 75,
   "id": "97589030",
   "metadata": {},
   "outputs": [],
   "source": [
    "list1=[0]\n",
    "for i in range(1,len(df)):\n",
    "        yestarday=df_hdfc1[i-1][8]\n",
    "        today=df_hdfc1[i][4]\n",
    "        inc=((today - yestarday)/yestarday)\n",
    "        p=round(inc,2)\n",
    "        list1.append(p)"
   ]
  },
  {
   "cell_type": "markdown",
   "id": "c4a92b21",
   "metadata": {},
   "source": [
    "#### Minimum Daily return of  HDFC"
   ]
  },
  {
   "cell_type": "code",
   "execution_count": 76,
   "id": "826f59fb",
   "metadata": {},
   "outputs": [
    {
     "name": "stdout",
     "output_type": "stream",
     "text": [
      "0.11\n"
     ]
    }
   ],
   "source": [
    "max_return_of_stock = df['Daily_return'].max()\n",
    "print(max_return_of_stock)"
   ]
  },
  {
   "cell_type": "markdown",
   "id": "d3434ef3",
   "metadata": {},
   "source": [
    "#### Maximum Daily return of  HDFC"
   ]
  },
  {
   "cell_type": "code",
   "execution_count": 77,
   "id": "2387cda2",
   "metadata": {},
   "outputs": [
    {
     "name": "stdout",
     "output_type": "stream",
     "text": [
      "-0.5\n"
     ]
    }
   ],
   "source": [
    "max_return_of_stock = df['Daily_return'].min()\n",
    "print(max_return_of_stock )"
   ]
  },
  {
   "cell_type": "markdown",
   "id": "20f4ce1b",
   "metadata": {},
   "source": [
    "#### Average Daily return of  HDFC"
   ]
  },
  {
   "cell_type": "code",
   "execution_count": 78,
   "id": "ab499b32",
   "metadata": {},
   "outputs": [
    {
     "name": "stdout",
     "output_type": "stream",
     "text": [
      "0.0010723709008669431\n"
     ]
    }
   ],
   "source": [
    "Avg_return_of_stock = df['Daily_return'].mean()\n",
    "print(Avg_return_of_stock )"
   ]
  },
  {
   "cell_type": "markdown",
   "id": "730ff44e",
   "metadata": {},
   "source": [
    "#### standarddeviation Daily return of  HDFC"
   ]
  },
  {
   "cell_type": "code",
   "execution_count": 79,
   "id": "9459a957",
   "metadata": {},
   "outputs": [
    {
     "name": "stdout",
     "output_type": "stream",
     "text": [
      "0.01655196717196715\n"
     ]
    }
   ],
   "source": [
    "std_return_of_stock = df['Daily_return'].std()\n",
    "print(std_return_of_stock )"
   ]
  },
  {
   "cell_type": "code",
   "execution_count": null,
   "id": "2325b96d",
   "metadata": {},
   "outputs": [],
   "source": []
  }
 ],
 "metadata": {
  "kernelspec": {
   "display_name": "Python 3 (ipykernel)",
   "language": "python",
   "name": "python3"
  },
  "language_info": {
   "codemirror_mode": {
    "name": "ipython",
    "version": 3
   },
   "file_extension": ".py",
   "mimetype": "text/x-python",
   "name": "python",
   "nbconvert_exporter": "python",
   "pygments_lexer": "ipython3",
   "version": "3.10.9"
  }
 },
 "nbformat": 4,
 "nbformat_minor": 5
}
